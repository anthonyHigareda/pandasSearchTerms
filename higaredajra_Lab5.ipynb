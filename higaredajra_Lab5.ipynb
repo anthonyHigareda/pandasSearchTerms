{
 "cells": [
  {
   "cell_type": "markdown",
   "id": "3f9fdac2",
   "metadata": {},
   "source": [
    "**TODO:** Rename this notebook to \"Lab5_\\<username>\". Complete this cell with a short description of the contents of this lab."
   ]
  },
  {
   "cell_type": "code",
   "execution_count": null,
   "id": "d69604f5",
   "metadata": {},
   "outputs": [],
   "source": [
    "# In this cell: Import libraries and declare your cleaning functions.\n",
    "# These functions can be directly copied from Lab 4 if they were done appropriately. \n",
    "# These functions must take in a token and return a cleaned version of the token."
   ]
  },
  {
   "cell_type": "code",
   "execution_count": null,
   "id": "43d978f7",
   "metadata": {},
   "outputs": [],
   "source": [
    "# In this cell: import the dataset, split into individual tokens, create DataFrame, \n",
    "# and display the first 20 lines of the DataFrame."
   ]
  },
  {
   "cell_type": "code",
   "execution_count": null,
   "id": "84d4bbf7",
   "metadata": {},
   "outputs": [],
   "source": [
    "# In this cell: Add a new columns to the DataFrame by applying your cleaning \n",
    "# functions one at a time. You may break this step into multiple cells if it \n",
    "# makes your benchmarking easier. Display the first 20 lines of the DataFrame \n",
    "# once it has the four required columns."
   ]
  },
  {
   "cell_type": "code",
   "execution_count": null,
   "id": "364d211e",
   "metadata": {},
   "outputs": [],
   "source": [
    "# In this cell: export most clean column to list, count terms with Lab 4 dictionary \n",
    "# counting code, display benchmarking results."
   ]
  },
  {
   "cell_type": "code",
   "execution_count": null,
   "id": "de8c27fa",
   "metadata": {},
   "outputs": [],
   "source": [
    "# In this cell: use .value_counts() to do frequency counting. Display benchmarking\n",
    "# results."
   ]
  },
  {
   "cell_type": "markdown",
   "id": "d709a812",
   "metadata": {},
   "source": [
    "**TODO:** Analyze above benchmarking results."
   ]
  },
  {
   "cell_type": "code",
   "execution_count": null,
   "id": "24853e1d",
   "metadata": {},
   "outputs": [],
   "source": [
    "# In this cell: Evaluate space efficiency of python list vs pandas DataFrame.\n",
    "# Display results. Again, you may break this step into multiple cells if it \n",
    "# makes your analysis easier."
   ]
  },
  {
   "cell_type": "markdown",
   "id": "9d3575ea",
   "metadata": {},
   "source": [
    "**TODO:** Analyze above space analysis results."
   ]
  },
  {
   "cell_type": "code",
   "execution_count": null,
   "id": "061c9aa2",
   "metadata": {},
   "outputs": [],
   "source": []
  }
 ],
 "metadata": {
  "kernelspec": {
   "display_name": "Python 3 (ipykernel)",
   "language": "python",
   "name": "python3"
  },
  "language_info": {
   "codemirror_mode": {
    "name": "ipython",
    "version": 3
   },
   "file_extension": ".py",
   "mimetype": "text/x-python",
   "name": "python",
   "nbconvert_exporter": "python",
   "pygments_lexer": "ipython3",
   "version": "3.11.5"
  }
 },
 "nbformat": 4,
 "nbformat_minor": 5
}
